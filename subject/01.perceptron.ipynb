{
 "cells": [
  {
   "cell_type": "markdown",
   "metadata": {},
   "source": [
    "\n",
    "# `CV TEAM 과제` 1편 (퍼셉트론)\n",
    "<img src=\"../resource/images/42LABS.png\" width=\"200\">\n",
    "\n",
    "`제작` : `hocjeong(wjdghcks02@gmail.com)`\n",
    "\n",
    "---\n",
    "\n",
    "# `[⭐과제 진행시 유의사항⭐]`\n",
    "- 본 과제는 코드로 구현하면서 학습하는 과제입니다.\n",
    "- 본 과제는 `Google Colab`에서 실행하는 것을 권장합니다! \n",
    "- **해당 디렉토리 전체를 업로드 후 실행해주세요, 만약 주피터 노트북만 코랩에서 실행시 이미지가 깨져 보일 수 있습니다!!**\n",
    "- 만약 `local`에서 실행시 필요한 라이브러리는 설치해 주세요!! \n",
    "\n",
    "- 해당 과제는 2개의 요소로 구성되어 있습니다.\n",
    "    - 1. `[개념 설명 및 예시]`\n",
    "    - 2. `[TODO]`\n",
    "- 개념 설명이 경우 해당 부분을 읽으시면서 복습하시면 됩니다.\n",
    "- 해당 개념에 대한 이해를 바탕으로 **`[TODO]`** 부분을 직접 작성하시면 됩니다.\n",
    "- **과제를 수행하시다가 궁금한 사항이나 오류 발생시 `hocjeong`에게 문의 해주시면 됩니다!!**\n",
    "\n",
    "---"
   ]
  },
  {
   "cell_type": "markdown",
   "metadata": {},
   "source": [
    "# 목차\n",
    "- [1. 퍼셉트론 (Perceptron)](#1-퍼셉트론-perceptron)\n",
    "    - [1.1 퍼셉트론이란?](#11-퍼셉트론이란)\n",
    "    - [1.2 퍼셉트론을 활용하여 단순한 논리 회로 만들기](#12-퍼셉트론을-활용하여-단순한-논리-회로-만들기)\n",
    "        - [1.2.1 AND 게이트 구현](#121-and-게이트-구현)\n",
    "        - [1.2.2 TODO 1 : NAND 게이트와 OR 게이트 구현하기](#122-todo-1--nand-게이트-와-or-게이트-구현하기-)\n",
    "        - [TODO 1 채점](#todo1-채점)\n",
    "    - [1.3 퍼셉트론의 한계](#13-퍼셉트론의-한계)\n",
    "        - [1.3.1 XOR 게이트 구현](#131-xor-게이트-구현)\n",
    "        - [1.3.2 TODO 2 : 다른 조합으로 XOR 게이트 구현하기](#132-todo-2--다른-조합으로-xor-게이트-구현하기)\n",
    "        - [TODO 2 채점](#todo2-채점)\n",
    "---"
   ]
  },
  {
   "cell_type": "markdown",
   "metadata": {},
   "source": [
    "# 1. 퍼셉트론 (Perceptron)\n",
    "## 1.1 퍼셉트론이란?\n",
    "<img src=\"../resource/images/01/perceptron.png\" width=\"600\">  \n",
    "\n",
    "- `퍼셉트론 Perceptron`은 다수의 신호를 입력으로 받아서 하나의 신호를 출력을 합니다. 여기서 말하는 `신호`는 `1 or 0` 두 값을 가집니다!  \n",
    "- 퍼셉트론의 각각의 입력에는 `가중치 weight`가 존재하는데 가중치의 값이 클수록 해당 값이 `중요하다!!` 라는 것을 의미합니다.  \n",
    "- 이렇게 가중치와 입력을 곱하고 각각 곱한값들을 합하면 특정값이 나오게 됩니다. 이 `특정값`이 `임계값`을 넘어가게 되면 `1`을 출력하고 반대의 경우 `0`을 출력하는 것입니다.  \n",
    "- 이를 수식으로 표현하면 다음과 같습니다 \n",
    "\n",
    "<img src=\"../resource/images/01/perceptron_2.png\" width=\"300\">  \n",
    "\n",
    "## 1.2 퍼셉트론을 활용하여 단순한 논리 회로 만들기\n",
    "그렇다면 `퍼셉트론`을 활용해서 어떤 문제를 해결할 수 있을까요? 가장 간단한 문제가 `논리회로`를 구현하는 것입니다.  \n",
    "논리회로에는 `AND 게이트`, `NAND 게이트`, `OR 게이트`, `XOR 게이트` 가 있습니다!!  \n",
    "참고로 각 게이트로 들어오는 입력값의 크기는 2입니다 (`2개의 입력이 들어옵니다. x1, x2`)\n",
    "\n",
    "이제 `퍼셉트론`을 활용해서 해당 게이트들을 구현해봅시다!!!\n",
    "### 1.2.1 AND 게이트 구현\n",
    "AND 게이트는 들어오는 값이 모두 `1`일때 출력이 `1`이 되는 게이트 입니다.  \n",
    "쉽게 말하자면 일반적인 프로그래밍의 `&&` 연산과 같은 의미입니다.  \n",
    "AND 게이트를 퍼셉트론으로 구현해봅시다."
   ]
  },
  {
   "cell_type": "code",
   "execution_count": null,
   "metadata": {},
   "outputs": [],
   "source": [
    "# AND gate\n",
    "def AND(x1, x2):\n",
    "    w1, w2, theta = 0.5, 0.5, 0.7 #x1가중치, x2가중치, 임계값\n",
    "    tmp = x1*w1 + x2*w2\n",
    "    if (tmp <= theta):\n",
    "        return(0)\n",
    "    return (1)"
   ]
  },
  {
   "cell_type": "markdown",
   "metadata": {},
   "source": [
    "해당 게이트를 구현하고 직접 값을 넣어서 확인해 봅시다\n",
    "- (1, 0) = 0\n",
    "- (0, 1) = 0\n",
    "- (0, 0) = 0\n",
    "- (1, 1) = 1\n",
    "\n",
    "위와 같이 입력 값을 넣어주었을 때 위와 같은 출력이 나와야 합니다."
   ]
  },
  {
   "cell_type": "code",
   "execution_count": null,
   "metadata": {},
   "outputs": [],
   "source": [
    "# test AND gate\n",
    "display(AND(1, 0))\n",
    "display(AND(0, 1))\n",
    "display(AND(0, 0))\n",
    "display(AND(1, 1))"
   ]
  },
  {
   "cell_type": "markdown",
   "metadata": {},
   "source": [
    "똑같이 출력이 되는 것을 확인할 수 있습니다.  \n",
    "물론 위 구현 방법이 직관적이고 알기 쉽지만 다른 방식으로 구현을 해봅시다.  \n",
    "\n",
    "위에서 사용한 `theta (임계값)`을 `-b` 로 치환하여 수식을 정리하면 다음과 같습니다.  \n",
    "<img src=\"../resource/images/01/perceptron_3.png\" width=\"300\">\n",
    "\n",
    "이제 우리는 `b`를 `편향 bias`라고 부를 것입니다.  \n",
    "새롭게 정리한 식을 해석해보자면 퍼셉트론은 입력 신호에 가중치를 곱한 값과 편향을 합하여 그 값이 0을 넘으면 1을 출력하고 그렇지 않으면 0을 출력합니다.  \n",
    "\n",
    "그럼 `numpy` 를 사용해서 위 식을 구현해 봅시다.  "
   ]
  },
  {
   "cell_type": "code",
   "execution_count": null,
   "metadata": {},
   "outputs": [],
   "source": [
    "import numpy as np  # as 는 파이썬에서 별칭으로 설정해줍니다.\n",
    "\n",
    "def AND(x1, x2):\n",
    "    x = np.array([x1, x2]) # 입력 x1 = 0, x2 = 1\n",
    "    w = np.array([0.5, 0.5]) # 각 입력에 대한 가중치, 입력과 크기가 같아야함\n",
    "    b = -0.7 # bias\n",
    "\n",
    "    tmp = np.sum(w*x) + b # np.sum은 w*x의 배열의 합을 구해준다\n",
    "    if tmp <= 0:\n",
    "        return (0)\n",
    "    return (1)"
   ]
  },
  {
   "cell_type": "markdown",
   "metadata": {},
   "source": [
    "새롭게 작성한 AND 게이트의 출력을 확인해 봅시다"
   ]
  },
  {
   "cell_type": "code",
   "execution_count": null,
   "metadata": {},
   "outputs": [],
   "source": [
    "# test AND gate\n",
    "display(AND(1, 0))\n",
    "display(AND(0, 1))\n",
    "display(AND(0, 0))\n",
    "display(AND(1, 1))"
   ]
  },
  {
   "cell_type": "markdown",
   "metadata": {},
   "source": [
    "제대로 작동하는 것을 확인할 수 있습니다!!  \n",
    "\n",
    "### 1.2.2 `TODO 1` : `NAND 게이트` 와 `OR 게이트` 구현하기 !!\n",
    "- `new_AND` 방법을 활용해서 직접 `NAND`게이트와 `OR` 게이트를 구현하세요\n",
    "- `힌트` : NAND게이트와 OR게이트는 `AND게이트`와 방법은 같지만, 가중치와 편향이 다릅니다!!    "
   ]
  },
  {
   "cell_type": "code",
   "execution_count": null,
   "metadata": {},
   "outputs": [],
   "source": [
    "#TODO 1. NAND 게이트와 OR 게이트 구현하기 \n",
    "\n",
    "# pass 부분 지우고 작성!!\n",
    "# 아래 부분에 NAND 작성!!!\n",
    "def NAND(x1, x2):\n",
    "    pass\n",
    "\n",
    "\n",
    "# pass 부분 지우고 작성!!\n",
    "# 아래 부분에 OR 작성!!!\n",
    "def OR(x1, x2):\n",
    "    pass\n"
   ]
  },
  {
   "cell_type": "markdown",
   "metadata": {},
   "source": [
    "### `TODO1. 채점`\n",
    "잘 작성하셨나요? 직접 작성한 코드가 제대로 작동하는지 test 해봅시다!!  \n",
    "\n",
    "참고로 `NAND 게이트`의 경우\n",
    "- (0, 0) = 1\n",
    "- (1, 0) = 1\n",
    "- (0, 1) = 1\n",
    "- (1, 1) = 0\n",
    "\n",
    "`OR 게이트`의 경우\n",
    "- (0, 0) = 0\n",
    "- (1, 0) = 1\n",
    "- (0, 1) = 1\n",
    "- (1, 1) = 1  \n",
    "로 출력되어야합니다."
   ]
  },
  {
   "cell_type": "code",
   "execution_count": null,
   "metadata": {},
   "outputs": [],
   "source": [
    "# NAND, OR TEST\n",
    "from test_code import TEST_NAND, TEST_OR\n",
    "\n",
    "print(\"=\"*30)\n",
    "TEST_NAND(NAND)\n",
    "TEST_OR(OR)"
   ]
  },
  {
   "cell_type": "markdown",
   "metadata": {},
   "source": [
    "제대로 작성했다면 둘다 score가 `4`로 출력될 것입니다!!\n",
    "\n",
    "## 1.3 퍼셉트론의 한계\n",
    "그러나 이러한 `퍼셉트론` 방법으로는 `XOR` 게이트를 구현하지 못한다는 한계점이 있습니다!!  \n",
    "왜냐하면 `XOR` 게이트의 경우 `비선형`의 문제이기 떄문입니다.  \n",
    "- `XOR` 게이트는 `배타적 논리합` 입니다. 이를 진리표로 나타내면 다음과 같습니다!!  \n",
    "\n",
    "`XOR 게이트 진리표`\n",
    "| x1 | x2 | y  |\n",
    "|----|----|----|\n",
    "| 0  | 0  | 0  |\n",
    "| 1  | 0  | 1  |\n",
    "| 0  | 1  | 1  |\n",
    "| 1  | 1  | 0  |\n",
    "\n",
    "`XOR 게이트`를 시각화 하면 다음과 같습니다!! \n",
    "\n",
    "<img src=\"../resource/images/01/xor_gate.png\" width=\"400\">  \n",
    "\n",
    "그래프가 눈에 잘 들어 오시나요?  \n",
    "기존 `OR, AND, NAND` 게이트의 경우 `직선`의 결정경계로 해당 영역을 구분할 수 있었습니다.  \n",
    "하지만 `위 그래프`에서 볼 수 있듯이 `XOR` 게이트의 경우 `직선`으로 올바른 영역을 구분할 수 없습니다!!  \n",
    "\n",
    "<img src=\"../resource/images/01/xor_gate_2.png\" width=\"400\">  \n",
    "\n",
    "그렇다면 어떻게 결정경계를 나눌 수 있을까요?  \n",
    "바로 왼쪽 그래프 처럼 곡선의 형태로 영역을 구분해야합니다!!  \n",
    "또는 2개 이상의 직선을 합쳐서 영역을 구분해야합니다.\n",
    "\n",
    "따라서 `XOR` 게이트를 표현하기 위해서는 `층을 쌓아서` `다층 퍼셉트론`으로 표현을 해야합니다!!  \n",
    "- 쉽게 말하자면 `하나의 게이트`로의 표현은 `직선 한개`라고 할 수 있습니다.   \n",
    "따라서 이를 위 처럼 표현하기 위해서는 `여러개의 직선`을 사용하거나 `곡선`을 사용해야합니다.  \n",
    "즉, `여러 게이트`를 층으로 쌓아서 사용하는 것입니다!!\n",
    "\n",
    "\n",
    "### 1.3.1 XOR 게이트 구현\n",
    "`XOR` 게이트는 앞에서 구현한 `OR`, `AND`, `NAND` 게이트를 조합하여서 표현할 수 있습니다.  \n",
    "<img src=\"../resource/images/01/xor_gate_3.png\" width=\"400\">  \n",
    "\n",
    "`NAND, OR` 게이트가 제대로 구현되어 있다는 가정에서 아래 코드를 실행하면 `XOR 게이트 진리표`의 결과 값으로 출력될 것입니다!!"
   ]
  },
  {
   "cell_type": "code",
   "execution_count": null,
   "metadata": {},
   "outputs": [],
   "source": [
    "# XOR 게이트 구현하기\n",
    "def XOR(x1, x2):\n",
    "    s1 = NAND(x1, x2)\n",
    "    s2 = OR(x1, x2)\n",
    "    y = AND(s1, s2)\n",
    "    return y\n",
    "\n",
    "display(XOR(1, 0))\n",
    "display(XOR(0, 1))\n",
    "display(XOR(0, 0))\n",
    "display(XOR(1, 1))"
   ]
  },
  {
   "cell_type": "markdown",
   "metadata": {},
   "source": [
    "### 1.3.2 TODO 2 : 다른 조합으로 XOR 게이트 구현하기\n",
    "위에서 `XOR 게이트`를 구현한 조합 말고 다른 방법의 조합으로도 XOR 게이트를 구현할 수 있습니다.  \n",
    "직접해보세요 !!  \n",
    "\n",
    "힌트 : `NAND` 사용하기  \n",
    "\n",
    "`NOT A` = `A NAND A`  \n",
    "`NOT B` = `B NAND B`  \n",
    "`A AND NOT B` = `(A NAND (B NAND B)) NAND (A NAND (B NAND B))`  \n",
    "`NOT A AND B` = `((A NAND A) NAND B) NAND ((A NAND A) NAND B)`  "
   ]
  },
  {
   "cell_type": "code",
   "execution_count": null,
   "metadata": {},
   "outputs": [],
   "source": [
    "#TODO 2. 다른 조합으로 XOR 게이트 구현하기 \n",
    "\n",
    "# pass 부분 지우고 작성!!\n",
    "# 아래 부분에  NewXOR 작성!!!\n",
    "def NewXOR(x1, x2):\n",
    "    pass\n"
   ]
  },
  {
   "cell_type": "markdown",
   "metadata": {},
   "source": [
    "### TODO 2 채점"
   ]
  },
  {
   "cell_type": "code",
   "execution_count": null,
   "metadata": {},
   "outputs": [],
   "source": [
    "# NewXOR 게이트 채점\n",
    "from test_code import TEST_XOR\n",
    "\n",
    "print(\"=\"*30)\n",
    "TEST_XOR(NewXOR)"
   ]
  },
  {
   "cell_type": "markdown",
   "metadata": {},
   "source": [
    "위에서 구현한 방법말고 다양한 방법으로도 `XOR 게이트`를 구현할 수 있습니다.  \n",
    "`2층 이상의 다층으로` 구현할 수 있고 다른 조합으로도 구현해볼 수 있습니다.  \n",
    "관심이다면 직접해보세요 !!"
   ]
  }
 ],
 "metadata": {
  "kernelspec": {
   "display_name": "42LABS",
   "language": "python",
   "name": "python3"
  },
  "language_info": {
   "codemirror_mode": {
    "name": "ipython",
    "version": 3
   },
   "file_extension": ".py",
   "mimetype": "text/x-python",
   "name": "python",
   "nbconvert_exporter": "python",
   "pygments_lexer": "ipython3",
   "version": "3.11.4"
  }
 },
 "nbformat": 4,
 "nbformat_minor": 2
}
